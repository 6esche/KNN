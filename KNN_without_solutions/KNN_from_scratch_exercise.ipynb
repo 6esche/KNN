{
 "cells": [
  {
   "cell_type": "markdown",
   "metadata": {},
   "source": [
    "The KNN algorithm is very simple to implement, as it does not need to be trained. The training phase merely stores the training data. For each test point, we calculate the distance of that data point to every existing data point and find the $K$ closest ones. What we return is the the most common amongst the top k classification nearest to the test point. Here's the pseudocode for _K_ Nearest Neighbors:\n",
    "\n",
    "```\n",
    "kNN:\n",
    "\n",
    "    Learn:\n",
    "        Store training set T to X_train: X_train <-- T\n",
    "\n",
    "\n",
    "    Predict:\n",
    "        for every point xp in X_predict:\n",
    "            for every point x in X_train:\n",
    "                calculate the distance d in D between x and xp\n",
    "            sort D in increasing order\n",
    "            take the \"k\" items in X_train with the smallest distances to x\n",
    "            return the majority class among these k items\n",
    "```\n",
    "\n",
    "Note that for large data sets, the algorithm can take very long to classify because it has to calculate the distance between the test point and evey other point in the data!\n"
   ]
  },
  {
   "cell_type": "code",
   "execution_count": 4,
   "metadata": {},
   "outputs": [],
   "source": [
    "import pandas as pd\n",
    "import numpy as np\n",
    "from sklearn.model_selection import train_test_split\n",
    "from scipy import stats"
   ]
  },
  {
   "cell_type": "code",
   "execution_count": 5,
   "metadata": {},
   "outputs": [],
   "source": [
    "testdata = pd.read_csv('iris.csv')"
   ]
  },
  {
   "cell_type": "code",
   "execution_count": 6,
   "metadata": {},
   "outputs": [
    {
     "name": "stdout",
     "output_type": "stream",
     "text": [
      "<class 'pandas.core.frame.DataFrame'>\n",
      "RangeIndex: 150 entries, 0 to 149\n",
      "Data columns (total 5 columns):\n",
      "sepal_length    150 non-null float64\n",
      "sepal_width     150 non-null float64\n",
      "petal_length    150 non-null float64\n",
      "petal_width     150 non-null float64\n",
      "species         150 non-null object\n",
      "dtypes: float64(4), object(1)\n",
      "memory usage: 5.9+ KB\n"
     ]
    }
   ],
   "source": [
    "testdata.info()"
   ]
  },
  {
   "cell_type": "code",
   "execution_count": 7,
   "metadata": {},
   "outputs": [
    {
     "data": {
      "text/plain": [
       "Iris-virginica     50\n",
       "Iris-setosa        50\n",
       "Iris-versicolor    50\n",
       "Name: species, dtype: int64"
      ]
     },
     "execution_count": 7,
     "metadata": {},
     "output_type": "execute_result"
    }
   ],
   "source": [
    "testdata.species.value_counts()"
   ]
  },
  {
   "cell_type": "code",
   "execution_count": 9,
   "metadata": {},
   "outputs": [],
   "source": [
    "X = testdata.iloc[:,0:-1]\n",
    "y = testdata.iloc[:,-1:]"
   ]
  },
  {
   "cell_type": "code",
   "execution_count": 10,
   "metadata": {},
   "outputs": [],
   "source": [
    "X_train, X_test, y_train, y_test = train_test_split(X, y, random_state=1, test_size=0.8)"
   ]
  },
  {
   "cell_type": "code",
   "execution_count": 78,
   "metadata": {},
   "outputs": [],
   "source": [
    "def kNN(X, y, k=5):\n",
    "    classification = np.array([])\n",
    "    for j in range(0,X.shape[0]):\n",
    "        dis_j = np.array([])\n",
    "        for i in range(0,X.shape[0]):\n",
    "            d_i = 0\n",
    "            for f in range(0,X.shape[1]):\n",
    "                d_i += (X.iloc[i, f] - X.iloc[j, f])**2\n",
    "                f += 1\n",
    "            d_i = d_i**(1/2)\n",
    "            dis_j = np.append(dis_j, d_i)\n",
    "            i += 1\n",
    "        mod_j = np.array([])\n",
    "        for g in np.argsort(dis_j)[1:k]:\n",
    "            mod_j = np.append(mod_j, y.iloc[g])\n",
    "        classification = np.append(classification, stats.mode(mod_j))\n",
    "        j+=1\n",
    "    return classification"
   ]
  },
  {
   "cell_type": "code",
   "execution_count": 79,
   "metadata": {},
   "outputs": [
    {
     "data": {
      "text/plain": [
       "array(['Iris-setosa', 4, 'Iris-virginica', 4, 'Iris-setosa', 4,\n",
       "       'Iris-versicolor', 4, 'Iris-setosa', 4, 'Iris-versicolor', 4,\n",
       "       'Iris-versicolor', 4, 'Iris-setosa', 4, 'Iris-setosa', 4,\n",
       "       'Iris-versicolor', 4, 'Iris-setosa', 4, 'Iris-versicolor', 4,\n",
       "       'Iris-versicolor', 3, 'Iris-setosa', 4, 'Iris-versicolor', 3,\n",
       "       'Iris-versicolor', 4, 'Iris-versicolor', 3, 'Iris-versicolor', 3,\n",
       "       'Iris-versicolor', 2, 'Iris-setosa', 4, 'Iris-setosa', 4,\n",
       "       'Iris-virginica', 3, 'Iris-versicolor', 4, 'Iris-virginica', 3,\n",
       "       'Iris-versicolor', 4, 'Iris-versicolor', 2, 'Iris-virginica', 4,\n",
       "       'Iris-versicolor', 2, 'Iris-virginica', 4, 'Iris-setosa', 4],\n",
       "      dtype=object)"
      ]
     },
     "execution_count": 79,
     "metadata": {},
     "output_type": "execute_result"
    }
   ],
   "source": [
    "kNN(X_train,y_train)"
   ]
  },
  {
   "cell_type": "code",
   "execution_count": 13,
   "metadata": {},
   "outputs": [],
   "source": [
    "def kNN(X, y, testX, k=5):\n",
    "    classification = np.array([])\n",
    "    for j in range(testX.shape[0]):\n",
    "        dis_j = np.array([])\n",
    "        for i in range(X.shape[0]):\n",
    "            d_i = 0\n",
    "            for f in range(X.shape[1]):\n",
    "                d_i += (X.iloc[i, f] - testX.iloc[j, f])**2\n",
    "                f += 1\n",
    "            d_i = d_i**(1/2)\n",
    "            dis_j = np.append(dis_j, d_i)\n",
    "            i += 1\n",
    "        mod_j = np.array([])\n",
    "        for g in np.argsort(dis_j)[0:k]:\n",
    "            mod_j = np.append(mod_j, y.iloc[g])\n",
    "        classification = np.append(classification, stats.mode(mod_j))\n",
    "        j+=1\n",
    "    return classification"
   ]
  },
  {
   "cell_type": "code",
   "execution_count": 14,
   "metadata": {},
   "outputs": [
    {
     "data": {
      "text/plain": [
       "array(['Iris-setosa', 5, 'Iris-versicolor', 5, 'Iris-versicolor', 5,\n",
       "       'Iris-setosa', 5, 'Iris-virginica', 4, 'Iris-versicolor', 4,\n",
       "       'Iris-virginica', 3, 'Iris-setosa', 5, 'Iris-setosa', 5,\n",
       "       'Iris-virginica', 5, 'Iris-versicolor', 5, 'Iris-setosa', 5,\n",
       "       'Iris-virginica', 5, 'Iris-versicolor', 4, 'Iris-versicolor', 5,\n",
       "       'Iris-setosa', 5, 'Iris-versicolor', 5, 'Iris-versicolor', 5,\n",
       "       'Iris-setosa', 5, 'Iris-setosa', 5, 'Iris-versicolor', 5,\n",
       "       'Iris-versicolor', 4, 'Iris-versicolor', 3, 'Iris-setosa', 5,\n",
       "       'Iris-virginica', 5, 'Iris-versicolor', 5, 'Iris-setosa', 5,\n",
       "       'Iris-setosa', 5, 'Iris-versicolor', 4, 'Iris-versicolor', 3,\n",
       "       'Iris-versicolor', 4, 'Iris-virginica', 4, 'Iris-versicolor', 5,\n",
       "       'Iris-virginica', 5, 'Iris-virginica', 5, 'Iris-setosa', 5,\n",
       "       'Iris-versicolor', 5, 'Iris-setosa', 5, 'Iris-versicolor', 4,\n",
       "       'Iris-virginica', 5, 'Iris-virginica', 5, 'Iris-setosa', 5,\n",
       "       'Iris-virginica', 3, 'Iris-virginica', 5, 'Iris-versicolor', 4,\n",
       "       'Iris-virginica', 5, 'Iris-setosa', 5, 'Iris-setosa', 5,\n",
       "       'Iris-setosa', 5, 'Iris-versicolor', 5, 'Iris-setosa', 5,\n",
       "       'Iris-setosa', 5, 'Iris-virginica', 4, 'Iris-virginica', 4,\n",
       "       'Iris-virginica', 5, 'Iris-virginica', 5, 'Iris-versicolor', 3,\n",
       "       'Iris-versicolor', 5, 'Iris-virginica', 5, 'Iris-versicolor', 5,\n",
       "       'Iris-setosa', 5, 'Iris-versicolor', 3, 'Iris-versicolor', 3,\n",
       "       'Iris-setosa', 5, 'Iris-setosa', 5, 'Iris-virginica', 5,\n",
       "       'Iris-setosa', 5, 'Iris-virginica', 3, 'Iris-virginica', 4,\n",
       "       'Iris-versicolor', 5, 'Iris-versicolor', 5, 'Iris-virginica', 5,\n",
       "       'Iris-versicolor', 3, 'Iris-setosa', 5, 'Iris-versicolor', 5,\n",
       "       'Iris-versicolor', 5, 'Iris-virginica', 5, 'Iris-versicolor', 5,\n",
       "       'Iris-virginica', 5, 'Iris-versicolor', 5, 'Iris-setosa', 5,\n",
       "       'Iris-setosa', 5, 'Iris-setosa', 5, 'Iris-virginica', 5,\n",
       "       'Iris-setosa', 5, 'Iris-virginica', 3, 'Iris-virginica', 4,\n",
       "       'Iris-virginica', 3, 'Iris-setosa', 5, 'Iris-setosa', 5,\n",
       "       'Iris-versicolor', 5, 'Iris-setosa', 5, 'Iris-virginica', 5,\n",
       "       'Iris-versicolor', 5, 'Iris-virginica', 5, 'Iris-virginica', 4,\n",
       "       'Iris-versicolor', 5, 'Iris-virginica', 5, 'Iris-virginica', 4,\n",
       "       'Iris-versicolor', 5, 'Iris-setosa', 5, 'Iris-versicolor', 5,\n",
       "       'Iris-setosa', 5, 'Iris-versicolor', 5, 'Iris-versicolor', 3,\n",
       "       'Iris-setosa', 5, 'Iris-versicolor', 4, 'Iris-setosa', 5,\n",
       "       'Iris-setosa', 5, 'Iris-virginica', 5, 'Iris-versicolor', 3,\n",
       "       'Iris-virginica', 5, 'Iris-setosa', 5, 'Iris-setosa', 5,\n",
       "       'Iris-versicolor', 3, 'Iris-setosa', 5, 'Iris-virginica', 3,\n",
       "       'Iris-setosa', 5, 'Iris-virginica', 4, 'Iris-versicolor', 4],\n",
       "      dtype=object)"
      ]
     },
     "execution_count": 14,
     "metadata": {},
     "output_type": "execute_result"
    }
   ],
   "source": [
    "kNN(X=X_train, y=y_train, testX=X_test)"
   ]
  },
  {
   "cell_type": "code",
   "execution_count": null,
   "metadata": {},
   "outputs": [],
   "source": []
  },
  {
   "cell_type": "code",
   "execution_count": null,
   "metadata": {},
   "outputs": [],
   "source": []
  },
  {
   "cell_type": "markdown",
   "metadata": {},
   "source": [
    "# Distance Metrics - Note"
   ]
  },
  {
   "cell_type": "markdown",
   "metadata": {},
   "source": [
    "As explained above, KNN assigns a class to the test point based on the majority class of  KK  nearest neighbours. In general, euclidean distance is used to find nearest neighbours, but other distance metrics can also be used.\n",
    "\n",
    "As the dimensionality of the feature space increases, the euclidean distance often becomes problematic due to the curse of dimensionality (discussed later).\n",
    "\n",
    "In such cases, alternative vector-based similarity measures (dot product, cosine similarity, etc) are used to find the nearest neighbours. This transforms the original metric space into one more amicable to point-to-point measurements.\n",
    "\n",
    "Another distance measure that you might consider is Mahalanobis distance. Here's the wikipedia page on Mahalanobis distance. https://en.wikipedia.org/wiki/Mahalanobis_distance Mahalanobis distance attempts to weight features according to their probabilities. On some data sets that may be important.\n",
    "\n",
    "In general, it's probably a good idea to normalize the data at a minimum. Here's a link to the scikit learn scaling package. http://scikit-learn.org/stable/modules/generated/sklearn.preprocessing.StandardScaler.html . You have to be a little circumspect about employing any technique where the answers change with scaling."
   ]
  },
  {
   "cell_type": "code",
   "execution_count": null,
   "metadata": {
    "collapsed": true
   },
   "outputs": [],
   "source": [
    "for j in range(0,hpds.shape[0]):\n",
    "    dis_j = np.array([])\n",
    "    for i in range(0,hpds.shape[0]):\n",
    "        dis_j = np.append(dis_j, [((hpds.lat.iloc[j] - hpds.lat.iloc[i])**2 + (hpds.long.iloc[j] - hpds.long.iloc[i])**2)**(1/2)])\n",
    "        i += 1        \n",
    "    pri_j = np.array([])\n",
    "    for k in np.argsort(dis_j)[1:6]:\n",
    "        pri_j = np.append(pri_j, hpds.price_sqft.iloc[k])\n",
    "    hpds.price_sqft5.iloc[j] = pri_j.mean()\n",
    "    #tdata.dis.iloc[j] = np.partition(dis_j, 1)[1]\n",
    "    #tdata.pri.iloc[j] = tdata.price_sqft.iloc[np.argpartition(dis_j, 1)[1]]\n",
    "    j += 1"
   ]
  },
  {
   "cell_type": "code",
   "execution_count": 1,
   "metadata": {},
   "outputs": [
    {
     "name": "stdout",
     "output_type": "stream",
     "text": [
      "Object `iloc` not found.\n"
     ]
    }
   ],
   "source": []
  },
  {
   "cell_type": "code",
   "execution_count": null,
   "metadata": {},
   "outputs": [],
   "source": []
  }
 ],
 "metadata": {
  "kernelspec": {
   "display_name": "Python 3",
   "language": "python",
   "name": "python3"
  },
  "language_info": {
   "codemirror_mode": {
    "name": "ipython",
    "version": 3
   },
   "file_extension": ".py",
   "mimetype": "text/x-python",
   "name": "python",
   "nbconvert_exporter": "python",
   "pygments_lexer": "ipython3",
   "version": "3.7.3"
  }
 },
 "nbformat": 4,
 "nbformat_minor": 2
}
